{
  "cells": [
    {
      "cell_type": "markdown",
      "metadata": {
        "id": "view-in-github",
        "colab_type": "text"
      },
      "source": [
        "<a href=\"https://colab.research.google.com/github/anandaviana/Analise-adote-petz/blob/main/01_Petz_DataFrames.ipynb\" target=\"_parent\"><img src=\"https://colab.research.google.com/assets/colab-badge.svg\" alt=\"Open In Colab\"/></a>"
      ]
    },
    {
      "cell_type": "markdown",
      "metadata": {
        "id": "zMw61MI6mqQu"
      },
      "source": [
        "### Importações"
      ]
    },
    {
      "cell_type": "code",
      "execution_count": null,
      "metadata": {
        "id": "RBkqVMzJiVRr"
      },
      "outputs": [],
      "source": [
        "# Importações\n",
        "\n",
        "import json\n",
        "import pandas as pd\n",
        "from datetime import datetime\n",
        "import matplotlib.pyplot as plt\n",
        "import numpy as np\n",
        "from google.colab import files\n",
        "import os"
      ]
    },
    {
      "cell_type": "code",
      "execution_count": null,
      "metadata": {
        "colab": {
          "base_uri": "https://localhost:8080/"
        },
        "id": "xVN7FxufcZ0i",
        "outputId": "1a52af97-7cc0-4ae3-b933-6046343d2874"
      },
      "outputs": [
        {
          "output_type": "stream",
          "name": "stdout",
          "text": [
            "Drive already mounted at /content/drive; to attempt to forcibly remount, call drive.mount(\"/content/drive\", force_remount=True).\n"
          ]
        }
      ],
      "source": [
        "from google.colab import drive\n",
        "drive.mount('/content/drive')"
      ]
    },
    {
      "cell_type": "markdown",
      "metadata": {
        "id": "OQKDMPNijxHO"
      },
      "source": [
        "### Tratamento de dados"
      ]
    },
    {
      "cell_type": "code",
      "execution_count": null,
      "metadata": {
        "id": "vcqq3MVki_Fe"
      },
      "outputs": [],
      "source": [
        "#Ler os dados brutos em formato json - quando há um dicionário único\n",
        "\n",
        "#ata = pd.read_json('/content/drive/MyDrive/Petz/Json/PetzDados_2024_10_05.json')"
      ]
    },
    {
      "cell_type": "code",
      "execution_count": null,
      "metadata": {
        "id": "coEeeGIkHSfw"
      },
      "outputs": [],
      "source": [
        "file_1 = '/content/drive/MyDrive/Petz/Json/dados_2024-12-21_1.json'\n",
        "file_2 = '/content/drive/MyDrive/Petz/Json/dados_2024-12-21_2.json'"
      ]
    },
    {
      "cell_type": "code",
      "execution_count": null,
      "metadata": {
        "colab": {
          "base_uri": "https://localhost:8080/",
          "height": 52
        },
        "id": "U6c4xNvBb6jc",
        "outputId": "fde38c89-eeca-4422-94f5-39ba1595bc55"
      },
      "outputs": [
        {
          "output_type": "stream",
          "name": "stdout",
          "text": [
            "Total de pets únicos: 412\n",
            "Arquivo JSON salvo com sucesso no Google Drive!\n"
          ]
        },
        {
          "output_type": "display_data",
          "data": {
            "text/plain": [
              "<IPython.core.display.Javascript object>"
            ],
            "application/javascript": [
              "\n",
              "    async function download(id, filename, size) {\n",
              "      if (!google.colab.kernel.accessAllowed) {\n",
              "        return;\n",
              "      }\n",
              "      const div = document.createElement('div');\n",
              "      const label = document.createElement('label');\n",
              "      label.textContent = `Downloading \"${filename}\": `;\n",
              "      div.appendChild(label);\n",
              "      const progress = document.createElement('progress');\n",
              "      progress.max = size;\n",
              "      div.appendChild(progress);\n",
              "      document.body.appendChild(div);\n",
              "\n",
              "      const buffers = [];\n",
              "      let downloaded = 0;\n",
              "\n",
              "      const channel = await google.colab.kernel.comms.open(id);\n",
              "      // Send a message to notify the kernel that we're ready.\n",
              "      channel.send({})\n",
              "\n",
              "      for await (const message of channel.messages) {\n",
              "        // Send a message to notify the kernel that we're ready.\n",
              "        channel.send({})\n",
              "        if (message.buffers) {\n",
              "          for (const buffer of message.buffers) {\n",
              "            buffers.push(buffer);\n",
              "            downloaded += buffer.byteLength;\n",
              "            progress.value = downloaded;\n",
              "          }\n",
              "        }\n",
              "      }\n",
              "      const blob = new Blob(buffers, {type: 'application/binary'});\n",
              "      const a = document.createElement('a');\n",
              "      a.href = window.URL.createObjectURL(blob);\n",
              "      a.download = filename;\n",
              "      div.appendChild(a);\n",
              "      a.click();\n",
              "      div.remove();\n",
              "    }\n",
              "  "
            ]
          },
          "metadata": {}
        },
        {
          "output_type": "display_data",
          "data": {
            "text/plain": [
              "<IPython.core.display.Javascript object>"
            ],
            "application/javascript": [
              "download(\"download_ed656d4e-4e99-415c-ba5b-a37741f2a0eb\", \"dados_2024-12-21.json\", 491893)"
            ]
          },
          "metadata": {}
        }
      ],
      "source": [
        "#Unindo 2 dicionários em 1 quando não é possível salvar um dict unico\n",
        "\n",
        "data1 = pd.read_json(file_1)\n",
        "data2 = pd.read_json(file_2)\n",
        "\n",
        "# Usando um dicionário para evitar duplicados com base na chave \"mouraId\"\n",
        "\n",
        "#data = {pet[\"mouraId\"]: pet for pet in data1[\"data\"][\"pets\"]} -- outra forma de escrever\n",
        "\n",
        "data = {}\n",
        "for pet in data1[\"data\"][\"pets\"]:\n",
        "  data[pet[\"mouraId\"]] = pet\n",
        "\n",
        "\n",
        "# Adicionando os novos pets, evitando duplicatas\n",
        "for pet in data2[\"data\"][\"pets\"]:\n",
        "    data[pet[\"mouraId\"]] = pet\n",
        "\n",
        "# Convertendo de volta para a estrutura original\n",
        "data = {\"data\": {\"pets\": list(data.values())}}\n",
        "\n",
        "# Verificando o resultado\n",
        "print(f\"Total de pets únicos: {len(data['data']['pets'])}\")\n",
        "\n",
        "# Salvar o arquivo JSON diretamente no Google Drive\n",
        "caminho_arquivo = file_1.replace('_1', '')\n",
        "with open(caminho_arquivo, 'w', encoding='utf-8') as arquivo_json:\n",
        "    json.dump(data, arquivo_json, ensure_ascii=False, indent=4)\n",
        "    print(\"Arquivo JSON salvo com sucesso no Google Drive!\")\n",
        "\n",
        "# Fazendo o download do arquivo para o computador\n",
        "files.download(caminho_arquivo)\n",
        "\n",
        "\n",
        "#Ler os dados brutos em formato json --- abrindo arquivo consolidado\n",
        "\n",
        "data = pd.read_json(caminho_arquivo)\n"
      ]
    },
    {
      "cell_type": "code",
      "execution_count": null,
      "metadata": {
        "id": "TMocutjqjfPO"
      },
      "outputs": [],
      "source": [
        "#Substituição de erros de digitação no arquivo original\n",
        "if 'data' in data:\n",
        "    if 'pets' in data['data']:\n",
        "        for pet in data['data']['pets']:\n",
        "            if 'ngo' in pet:\n",
        "                # Faz a substituição da chave 'ngo' por 'ong'\n",
        "                pet['ong'] = pet.pop('ngo')"
      ]
    },
    {
      "cell_type": "code",
      "execution_count": null,
      "metadata": {
        "id": "YHZ5p9nvj5um"
      },
      "outputs": [],
      "source": [
        "#Criando as listas\n",
        "gatos = []\n",
        "cachorros = []\n",
        "gato = []"
      ]
    },
    {
      "cell_type": "code",
      "execution_count": null,
      "metadata": {
        "id": "eJ9jvObFj8qp"
      },
      "outputs": [],
      "source": [
        "#Separando os dados por espécies\n",
        "if 'data' in data:\n",
        "    if 'pets' in data['data']:\n",
        "        for pet in data['data']['pets']:\n",
        "           if pet['specie'] == 'Gatos':\n",
        "               gatos.append(pet.copy())\n",
        "           if pet['specie'] == 'Cachorros':\n",
        "               cachorros.append(pet.copy())\n"
      ]
    },
    {
      "cell_type": "code",
      "execution_count": null,
      "metadata": {
        "colab": {
          "base_uri": "https://localhost:8080/"
        },
        "id": "U5cMg20JkCYu",
        "outputId": "b27fb133-83a3-4757-c467-cb90fa082d84"
      },
      "outputs": [
        {
          "output_type": "stream",
          "name": "stdout",
          "text": [
            "138\n",
            "274\n"
          ]
        }
      ],
      "source": [
        "#Quantidade de gatos e cachorros\n",
        "\n",
        "print(len(cachorros))\n",
        "print(len(gatos))"
      ]
    },
    {
      "cell_type": "code",
      "execution_count": null,
      "metadata": {
        "id": "h5huEz2vkDQd"
      },
      "outputs": [],
      "source": [
        "#Criando uma lita composta com cada pet\n",
        "c = 0\n",
        "for pet in gatos:\n",
        "    gato.append([])\n",
        "    gato[c].append(pet['mouraId'])\n",
        "    gato[c].append(pet['name'])\n",
        "    gato[c].append(pet['gender'])\n",
        "    gato[c].append(pet['size'])\n",
        "    gato[c].append(pet['cadpetzId'])\n",
        "    gato[c].append(pet['birthDate'])\n",
        "    gato[c].append(pet['weight'])\n",
        "    gato[c].append(pet['image']['photo'])\n",
        "    gato[c].append(pet['unit']['name'])\n",
        "    gato[c].append(pet['unit']['city']['name'])\n",
        "    gato[c].append(pet['unit']['state'])\n",
        "    c+=1"
      ]
    },
    {
      "cell_type": "code",
      "execution_count": null,
      "metadata": {
        "id": "-u3-j29kkIIW"
      },
      "outputs": [],
      "source": [
        "#Criando o dataframe com pandas\n",
        "df = pd.DataFrame(gato, columns=['mouraID', 'NOME', 'SEXO', 'PORTE', 'CAD PETZ ID', 'DATA DE NASCIMENTO', 'PESO', 'FOTO', 'UNIDADE PETZ', 'CIDADE', 'ESTADO'])"
      ]
    },
    {
      "cell_type": "markdown",
      "metadata": {
        "id": "DMUaTg-ikbLG"
      },
      "source": [
        "### Análise exploratória"
      ]
    },
    {
      "cell_type": "code",
      "execution_count": null,
      "metadata": {
        "colab": {
          "base_uri": "https://localhost:8080/"
        },
        "id": "Y9eN3sJokK-X",
        "outputId": "b6bdbf63-aaf1-4a1d-80c6-cbd92fb15cce"
      },
      "outputs": [
        {
          "output_type": "stream",
          "name": "stdout",
          "text": [
            "<class 'pandas.core.frame.DataFrame'>\n",
            "RangeIndex: 274 entries, 0 to 273\n",
            "Data columns (total 11 columns):\n",
            " #   Column              Non-Null Count  Dtype  \n",
            "---  ------              --------------  -----  \n",
            " 0   mouraID             274 non-null    int64  \n",
            " 1   NOME                274 non-null    object \n",
            " 2   SEXO                274 non-null    object \n",
            " 3   PORTE               274 non-null    object \n",
            " 4   CAD PETZ ID         274 non-null    int64  \n",
            " 5   DATA DE NASCIMENTO  274 non-null    object \n",
            " 6   PESO                274 non-null    float64\n",
            " 7   FOTO                274 non-null    object \n",
            " 8   UNIDADE PETZ        274 non-null    object \n",
            " 9   CIDADE              274 non-null    object \n",
            " 10  ESTADO              274 non-null    object \n",
            "dtypes: float64(1), int64(2), object(8)\n",
            "memory usage: 23.7+ KB\n"
          ]
        }
      ],
      "source": [
        "#Verificando colunas criadas e valores nulos\n",
        "df.info()"
      ]
    },
    {
      "cell_type": "code",
      "execution_count": null,
      "metadata": {
        "colab": {
          "base_uri": "https://localhost:8080/"
        },
        "id": "CxJfqkIG7c4F",
        "outputId": "63ff015e-d49a-4a9e-a4d0-52c5bc4ccc02"
      },
      "outputs": [
        {
          "output_type": "stream",
          "name": "stdout",
          "text": [
            "PESO > 15\n",
            "36\n"
          ]
        }
      ],
      "source": [
        "#Verificando pesos errados\n",
        "print('PESO > 15')\n",
        "print(len(df.loc[df['PESO']>15]))\n",
        "df.loc[df['PESO']>15, 'PESO'] = df['PESO']/100"
      ]
    },
    {
      "cell_type": "code",
      "execution_count": null,
      "metadata": {
        "colab": {
          "base_uri": "https://localhost:8080/"
        },
        "id": "uIYWgHgAkmc-",
        "outputId": "4128e994-37b4-4781-8e0d-3f3233501027"
      },
      "outputs": [
        {
          "output_type": "stream",
          "name": "stdout",
          "text": [
            "0\n"
          ]
        }
      ],
      "source": [
        "\n",
        "df.loc[df['PESO']>15, 'PESO'] = df['PESO']/100\n",
        "print(len(df.loc[df['PESO']>15])) #verificando se valores errados (assumidos como maiores que 15) sumiram"
      ]
    },
    {
      "cell_type": "code",
      "execution_count": null,
      "metadata": {
        "colab": {
          "base_uri": "https://localhost:8080/"
        },
        "id": "cCpA_idKkuSt",
        "outputId": "d914cb15-1dc7-4b7b-eb44-3ea9f91a6215"
      },
      "outputs": [
        {
          "output_type": "stream",
          "name": "stdout",
          "text": [
            "158\n",
            "116\n"
          ]
        }
      ],
      "source": [
        "#Quantidade de fêmeas e machos\n",
        "print(len(df.loc[df['SEXO']=='FEMALE']))\n",
        "print(len(df.loc[df['SEXO']=='MALE']))"
      ]
    },
    {
      "cell_type": "code",
      "execution_count": null,
      "metadata": {
        "colab": {
          "base_uri": "https://localhost:8080/"
        },
        "id": "rMTwZd9PkwNO",
        "outputId": "6785c329-d416-4caa-b49a-f0322ec84b70"
      },
      "outputs": [
        {
          "output_type": "stream",
          "name": "stdout",
          "text": [
            "ESTADO\n",
            "AM      1\n",
            "BA      9\n",
            "CE     14\n",
            "DF     15\n",
            "MG      8\n",
            "MS      1\n",
            "PE      5\n",
            "PI      1\n",
            "PR     11\n",
            "RJ     25\n",
            "RS     14\n",
            "SC      3\n",
            "SE      3\n",
            "SP    164\n",
            "Name: CAD PETZ ID, dtype: int64\n"
          ]
        }
      ],
      "source": [
        "#Quantidade de animais por estado\n",
        "print(df.groupby(['ESTADO'])['CAD PETZ ID'].nunique())"
      ]
    },
    {
      "cell_type": "code",
      "execution_count": null,
      "metadata": {
        "colab": {
          "base_uri": "https://localhost:8080/"
        },
        "id": "d7rODBZPkw4G",
        "outputId": "866379e9-270b-46e2-8386-69299d3c5c87"
      },
      "outputs": [
        {
          "output_type": "stream",
          "name": "stdout",
          "text": [
            "CIDADE\n",
            "ARACATUBA                 5\n",
            "CAMPINAS                  1\n",
            "DIADEMA                   3\n",
            "GUARUJA                   2\n",
            "GUARULHOS                 7\n",
            "HORTOLANDIA               3\n",
            "INDAIATUBA                1\n",
            "OSASCO                    2\n",
            "PIRACICABA                9\n",
            "RIO CLARO                 1\n",
            "SANTO ANDRE               6\n",
            "SAO BERNARDO DO CAMPO     9\n",
            "SAO CAETANO DO SUL        3\n",
            "SAO PAULO                96\n",
            "SOROCABA                  8\n",
            "VOTORANTIM                8\n",
            "Name: CAD PETZ ID, dtype: int64\n"
          ]
        }
      ],
      "source": [
        "#Quantidade de animais por cidade em SP\n",
        "sp = df.loc[df['ESTADO'] =='SP']\n",
        "print(sp.groupby(['CIDADE'])['CAD PETZ ID'].nunique())"
      ]
    },
    {
      "cell_type": "code",
      "execution_count": null,
      "metadata": {
        "colab": {
          "base_uri": "https://localhost:8080/"
        },
        "id": "mOZEDwg4kzmW",
        "outputId": "ca30dff0-19cc-4360-9021-70648727eaf0"
      },
      "outputs": [
        {
          "output_type": "stream",
          "name": "stdout",
          "text": [
            "0      12\n",
            "1       3\n",
            "2      28\n",
            "3      14\n",
            "4      25\n",
            "       ..\n",
            "269    12\n",
            "270    32\n",
            "271    22\n",
            "272     3\n",
            "273     2\n",
            "Name: IDADE (MESES), Length: 274, dtype: int32\n"
          ]
        }
      ],
      "source": [
        "#Calculando a idade dos animais\n",
        "# Convertendo a coluna 'Data_Nascimento' para o formato datetime\n",
        "df['DATA DE NASCIMENTO'] = pd.to_datetime(df['DATA DE NASCIMENTO'])\n",
        "# Data atual\n",
        "hoje = pd.Timestamp(datetime.now())\n",
        "\n",
        "# Calculando as idades\n",
        "df['IDADE (MESES)'] = (hoje.year - df['DATA DE NASCIMENTO'].dt.year) * 12 + (hoje.month - df['DATA DE NASCIMENTO'].dt.month)\n",
        "# Ajustando para quem ainda não fez aniversário neste ano\n",
        "df['IDADE (MESES)'] -= (df['DATA DE NASCIMENTO'].dt.day > hoje.day)\n",
        "print(df['IDADE (MESES)'])"
      ]
    },
    {
      "cell_type": "code",
      "execution_count": null,
      "metadata": {
        "colab": {
          "base_uri": "https://localhost:8080/"
        },
        "id": "CnroYsMWwdSi",
        "outputId": "c6b4a799-efa7-430c-f3d3-d87790646f65"
      },
      "outputs": [
        {
          "output_type": "execute_result",
          "data": {
            "text/plain": [
              "16.343065693430656"
            ]
          },
          "metadata": {},
          "execution_count": 19
        }
      ],
      "source": [
        "#Média de idade\n",
        "df['IDADE (MESES)'].mean()\n"
      ]
    },
    {
      "cell_type": "code",
      "execution_count": null,
      "metadata": {
        "colab": {
          "base_uri": "https://localhost:8080/"
        },
        "id": "aLvJIledk3Ee",
        "outputId": "4a5d4b8d-38b2-43ce-97be-92dbbc78e23c"
      },
      "outputs": [
        {
          "output_type": "stream",
          "name": "stdout",
          "text": [
            "129\n"
          ]
        }
      ],
      "source": [
        "#Criando a coluna Filhotes com valores de True or False\n",
        "df['FILHOTE'] = df['IDADE (MESES)'] < 12\n",
        "print(df['FILHOTE'].sum()) #quantos filhotes"
      ]
    },
    {
      "cell_type": "code",
      "execution_count": null,
      "metadata": {
        "colab": {
          "base_uri": "https://localhost:8080/"
        },
        "collapsed": true,
        "id": "8JWQVQFk60gB",
        "outputId": "3413500b-f6da-47ad-f2ce-24b8c1125d15"
      },
      "outputs": [
        {
          "output_type": "stream",
          "name": "stdout",
          "text": [
            "IDADE ZERO:\n",
            "0\n"
          ]
        },
        {
          "output_type": "execute_result",
          "data": {
            "text/plain": [
              "274"
            ]
          },
          "metadata": {},
          "execution_count": 21
        }
      ],
      "source": [
        "#Verificando idades nulas\n",
        "print('IDADE ZERO:')\n",
        "print(len(df.loc[df['IDADE (MESES)']==0]))\n",
        "len(df)\n"
      ]
    },
    {
      "cell_type": "code",
      "execution_count": null,
      "metadata": {
        "colab": {
          "base_uri": "https://localhost:8080/"
        },
        "id": "0l8yhXdz8KXu",
        "outputId": "7202c727-316c-42ed-e74d-adc877abdb53"
      },
      "outputs": [
        {
          "output_type": "stream",
          "name": "stdout",
          "text": [
            "Linhas após remoção:\n",
            "274\n"
          ]
        }
      ],
      "source": [
        "df.drop(df[df['IDADE (MESES)'] == 0].index, inplace=True)\n",
        "\n",
        "# Verificando se as linhas foram removidas\n",
        "print('Linhas após remoção:')\n",
        "print(len(df))"
      ]
    },
    {
      "cell_type": "code",
      "execution_count": null,
      "metadata": {
        "colab": {
          "base_uri": "https://localhost:8080/",
          "height": 489
        },
        "id": "6LcEo9GIlDIe",
        "outputId": "952113db-4539-4c2c-9bfe-39b9dfa82809"
      },
      "outputs": [
        {
          "output_type": "stream",
          "name": "stdout",
          "text": [
            "Femeas: 158\n"
          ]
        },
        {
          "output_type": "display_data",
          "data": {
            "text/plain": [
              "<Figure size 640x480 with 1 Axes>"
            ],
            "image/png": "[encoded data removed]"
          },
          "metadata": {}
        }
      ],
      "source": [
        "#Plotando gráfico de machos e fêmeas\n",
        "total = df['SEXO'].value_counts()\n",
        "femeas = len(df.loc[df['SEXO']=='FEMALE'])\n",
        "machos = len(df.loc[df['SEXO']=='MALE'])\n",
        "print(f'Femeas: {femeas}')\n",
        "plt.figure()\n",
        "plt.bar(height = total.values, x = total.index, color ='skyblue')\n",
        "plt.title('Gatos por sexo')\n",
        "plt.xlabel('Sexo')\n",
        "plt.ylabel('Contagem')\n",
        "plt.show()"
      ]
    },
    {
      "cell_type": "code",
      "execution_count": null,
      "metadata": {
        "colab": {
          "base_uri": "https://localhost:8080/",
          "height": 487
        },
        "id": "VzC0tZY3lJO-",
        "outputId": "072ea16c-3af3-4c79-9d48-3d19f5dbbe31"
      },
      "outputs": [
        {
          "output_type": "display_data",
          "data": {
            "text/plain": [
              "<Figure size 1200x500 with 1 Axes>"
            ],
            "image/png": "[encoded data removed]"
          },
          "metadata": {}
        }
      ],
      "source": [
        "#Plotando gráfico de idades\n",
        "gatos_idade = df['IDADE (MESES)'].value_counts()\n",
        "plt.figure(figsize=(12, 5))\n",
        "plt.bar(height=gatos_idade.values, x =gatos_idade.index, color='skyblue')\n",
        "plt.title('Gatos por idade')\n",
        "plt.xlabel('Idade(meses)')\n",
        "plt.xticks(ticks=range(0, max(gatos_idade.index) + 1, 2))\n",
        "plt.ylabel('Contagem')\n",
        "plt.show()"
      ]
    },
    {
      "cell_type": "markdown",
      "metadata": {
        "id": "eqwA4sZhiIwT"
      },
      "source": [
        "# Fechando o arquivo CSV"
      ]
    },
    {
      "cell_type": "code",
      "execution_count": null,
      "metadata": {
        "id": "GC1_Pf2Kilx8"
      },
      "outputs": [],
      "source": [
        "#Obter a data atual para incluir no dataframe\n",
        "data_atual = datetime.now().strftime(\"%Y-%m-%d\")"
      ]
    },
    {
      "cell_type": "code",
      "execution_count": null,
      "metadata": {
        "id": "fAl1lHAUYihO"
      },
      "outputs": [],
      "source": [
        "#Preenchendo a coluna com a data de entrada\n",
        "df['ENTRADA'] = data_atual\n",
        "df['ENTRADA'] = pd.to_datetime(df['ENTRADA'], format='%Y-%m-%d')"
      ]
    },
    {
      "cell_type": "code",
      "execution_count": null,
      "metadata": {
        "id": "3HoM7MatlLo-"
      },
      "outputs": [],
      "source": [
        "#Salvando arquivo .csv\n",
        "df.to_csv(f'/content/drive/MyDrive/Petz/csv/project_petz_14.csv', index =False, sep =';')"
      ]
    },
    {
      "cell_type": "markdown",
      "metadata": {
        "id": "MNoULETqshqt"
      },
      "source": [
        "### Análise comparativa\n",
        "\n",
        "Perguntas a serem respondidas:\n",
        "quantos gatos foram adotados entre essas 4 semanas?\n",
        "qual a ong com mais adoções?\n",
        "qual a média de idade dos gatos?\n",
        "qual a média de idade em que há mais adoções? gatos mais jovens são mais adotados?\n",
        "realmente há mais gatas fêmeas disponíveis?\n",
        "existe alguma região/unidade com mais adoção?\n",
        "\n",
        "\n",
        "\n"
      ]
    }
  ],
  "metadata": {
    "colab": {
      "provenance": [],
      "mount_file_id": "1eBoGwWGceZFSF4Niy8W6__bn4UTNPaQ7",
      "authorship_tag": "ABX9TyOCr0skULoKX8Aka15S2jvO",
      "include_colab_link": true
    },
    "kernelspec": {
      "display_name": "Python 3",
      "name": "python3"
    },
    "language_info": {
      "name": "python"
    }
  },
  "nbformat": 4,
  "nbformat_minor": 0
}